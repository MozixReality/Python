{
 "cells": [
  {
   "cell_type": "code",
   "execution_count": 34,
   "metadata": {
    "colab": {
     "base_uri": "https://localhost:8080/",
     "height": 170
    },
    "colab_type": "code",
    "id": "yQsAmC2XVKPU",
    "outputId": "39da1ef2-f6b7-44bc-f4b6-04b11f73c6df"
   },
   "outputs": [
    {
     "name": "stdout",
     "output_type": "stream",
     "text": [
      "第 2 位 2\n",
      "第 3 位 3\n",
      "第 5 位 8\n",
      "第 8 位 34\n",
      "第 13 位 377\n",
      "第 21 位 17711\n",
      "第 34 位 9227465\n",
      "第 55 位 225851433717\n",
      "第 89 位 2880067194370816120\n"
     ]
    }
   ],
   "source": [
    "#演算法筆記\n",
    "#矩陣快速冪\n",
    "#[f(n+1), f(n)  ] = [1, 1]^n\n",
    "#[f(n)  , f(n-1)] = [1, 0]\n",
    "%matplotlib inline\n",
    "import numpy as np\n",
    "import matplotlib.pyplot as plt\n",
    "\n",
    "# 1, 1, 2, 3, 5, 8, 13, 21\n",
    "A = B = np.array([[1, 1],\n",
    "                  [1, 0]])\n",
    "a = b = 1\n",
    "for i in range(9):\n",
    "  if(i%2 == 0):\n",
    "    A = A@B\n",
    "    a+=b\n",
    "    print(\"第\", a, \"位\", A[0][0])\n",
    "  else:\n",
    "    B = B@A\n",
    "    b+=a\n",
    "    print(\"第\", b, \"位\", B[0][0])"
   ]
  },
  {
   "cell_type": "code",
   "execution_count": 0,
   "metadata": {
    "colab": {},
    "colab_type": "code",
    "id": "G3nPgu9ZXtCF"
   },
   "outputs": [],
   "source": []
  }
 ],
 "metadata": {
  "colab": {
   "collapsed_sections": [],
   "name": "Welcome To Colaboratory",
   "provenance": []
  },
  "kernelspec": {
   "display_name": "Python 3",
   "language": "python",
   "name": "python3"
  },
  "language_info": {
   "codemirror_mode": {
    "name": "ipython",
    "version": 3
   },
   "file_extension": ".py",
   "mimetype": "text/x-python",
   "name": "python",
   "nbconvert_exporter": "python",
   "pygments_lexer": "ipython3",
   "version": "3.6.9"
  }
 },
 "nbformat": 4,
 "nbformat_minor": 1
}
