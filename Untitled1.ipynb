{
 "cells": [
  {
   "cell_type": "code",
   "execution_count": 1,
   "metadata": {},
   "outputs": [
    {
     "data": {
      "text/plain": [
       "Text(0.5, 1.0, '$\\\\Phi(My picture)$')"
      ]
     },
     "execution_count": 1,
     "metadata": {},
     "output_type": "execute_result"
    },
    {
     "data": {
      "image/png": "[encoded data removed]",
      "text/plain": [
       "<Figure size 432x288 with 1 Axes>"
      ]
     },
     "metadata": {},
     "output_type": "display_data"
    }
   ],
   "source": [
    "%matplotlib inline\n",
    "import matplotlib.pyplot as plt\n",
    "import numpy as np\n",
    "import sympy as sp\n",
    "\n",
    "a, b = 0, 5\n",
    "c, d = 5, 0\n",
    "\n",
    "n, m = 10, 10\n",
    "x = np.linspace(a, b, n)\n",
    "y = np.linspace(c, d, n)\n",
    "\n",
    "x2, y2 = np.meshgrid(x, y)\n",
    "x2 = x2.flatten()\n",
    "y2 = y2.flatten()\n",
    "My_meshgrid = np.vstack([x2, y2])\n",
    "\n",
    "\n",
    "plt.scatter(x2, y2, c='pink')\n",
    "plt.title('Method 1')\n",
    "\n",
    "plt.xlim(-1, 6)\n",
    "plt.ylim(6, -1)\n",
    "\n",
    "\n",
    "My = np.array([[np.sqrt(3)/2, -1/2],\n",
    "              [1/2, np.sqrt(3)/2]])\n",
    "\n",
    "def phi(x):\n",
    "    return My@x\n",
    "xx, yy = phi(My_meshgrid)\n",
    "\n",
    "plt.scatter(x2, y2, c='b')\n",
    "plt.scatter(xx, yy, c='r')\n",
    "\n",
    "plt.xlim(-5, 7)\n",
    "plt.ylim(8, -2)\n",
    "\n",
    "plt.title('$\\Phi(My picture)$')\n"
   ]
  },
  {
   "cell_type": "code",
   "execution_count": null,
   "metadata": {},
   "outputs": [],
   "source": []
  }
 ],
 "metadata": {
  "kernelspec": {
   "display_name": "Python 3",
   "language": "python",
   "name": "python3"
  },
  "language_info": {
   "codemirror_mode": {
    "name": "ipython",
    "version": 3
   },
   "file_extension": ".py",
   "mimetype": "text/x-python",
   "name": "python",
   "nbconvert_exporter": "python",
   "pygments_lexer": "ipython3",
   "version": "3.6.9"
  }
 },
 "nbformat": 4,
 "nbformat_minor": 2
}
