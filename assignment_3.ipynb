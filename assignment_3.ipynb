{
 "cells": [
  {
   "cell_type": "code",
   "execution_count": 8,
   "metadata": {},
   "outputs": [],
   "source": [
    "#令一矩陣, 求RREF, 再以 minus 1 trick 求其次解之向量"
   ]
  },
  {
   "cell_type": "code",
   "execution_count": 39,
   "metadata": {},
   "outputs": [
    {
     "name": "stdout",
     "output_type": "stream",
     "text": [
      "矩陣 A\n"
     ]
    },
    {
     "data": {
      "text/latex": [
       "$\\displaystyle \\left[\\begin{matrix}5 & 6 & 8 & -4 & 9\\\\3 & 7 & -2 & 8 & 3\\end{matrix}\\right]$"
      ],
      "text/plain": [
       "Matrix([\n",
       "[5, 6,  8, -4, 9],\n",
       "[3, 7, -2,  8, 3]])"
      ]
     },
     "execution_count": 39,
     "metadata": {},
     "output_type": "execute_result"
    }
   ],
   "source": [
    "import sympy as sp\n",
    "from sympy import S\n",
    "\n",
    "A = sp.Matrix([[5, 6, 8, -4, 9],\n",
    "              [3, 7, -2, 8, 3]])\n",
    "print(\"矩陣 A\")\n",
    "A"
   ]
  },
  {
   "cell_type": "code",
   "execution_count": 40,
   "metadata": {},
   "outputs": [
    {
     "name": "stdout",
     "output_type": "stream",
     "text": [
      "A 的 RREF\n"
     ]
    },
    {
     "data": {
      "text/latex": [
       "$\\displaystyle \\left[\\begin{matrix}1 & 0 & 4 & - \\frac{76}{17} & \\frac{45}{17}\\\\0 & 1 & -2 & \\frac{52}{17} & - \\frac{12}{17}\\end{matrix}\\right]$"
      ],
      "text/plain": [
       "Matrix([\n",
       "[1, 0,  4, -76/17,  45/17],\n",
       "[0, 1, -2,  52/17, -12/17]])"
      ]
     },
     "execution_count": 40,
     "metadata": {},
     "output_type": "execute_result"
    }
   ],
   "source": [
    "a_rref = A.rref()[0]\n",
    "a_basic_var = A.rref()[1]\n",
    "\n",
    "print(\"A 的 RREF\")\n",
    "a_rref"
   ]
  },
  {
   "cell_type": "code",
   "execution_count": 41,
   "metadata": {},
   "outputs": [],
   "source": [
    "B = a_rref\n",
    "B = B.row_insert(2,sp.Matrix([[0, 0, -1, 0, 0]]))\n",
    "B = B.row_insert(3,sp.Matrix([[0, 0, 0, -1, 0]]))\n",
    "B = B.row_insert(4,sp.Matrix([[0, 0, 0, 0, -1]]))\n",
    "\n",
    "u1 = B.col(2)\n",
    "u2 = B.col(3)\n",
    "u3 = B.col(4)"
   ]
  },
  {
   "cell_type": "code",
   "execution_count": 42,
   "metadata": {},
   "outputs": [
    {
     "data": {
      "text/latex": [
       "$\\displaystyle \\left[\\begin{matrix}4\\\\-2\\\\-1\\\\0\\\\0\\end{matrix}\\right]$"
      ],
      "text/plain": [
       "Matrix([\n",
       "[ 4],\n",
       "[-2],\n",
       "[-1],\n",
       "[ 0],\n",
       "[ 0]])"
      ]
     },
     "execution_count": 42,
     "metadata": {},
     "output_type": "execute_result"
    }
   ],
   "source": [
    "u1"
   ]
  },
  {
   "cell_type": "code",
   "execution_count": 43,
   "metadata": {},
   "outputs": [
    {
     "data": {
      "text/latex": [
       "$\\displaystyle \\left[\\begin{matrix}- \\frac{76}{17}\\\\\\frac{52}{17}\\\\0\\\\-1\\\\0\\end{matrix}\\right]$"
      ],
      "text/plain": [
       "Matrix([\n",
       "[-76/17],\n",
       "[ 52/17],\n",
       "[     0],\n",
       "[    -1],\n",
       "[     0]])"
      ]
     },
     "execution_count": 43,
     "metadata": {},
     "output_type": "execute_result"
    }
   ],
   "source": [
    "u2"
   ]
  },
  {
   "cell_type": "code",
   "execution_count": 44,
   "metadata": {},
   "outputs": [
    {
     "data": {
      "text/latex": [
       "$\\displaystyle \\left[\\begin{matrix}\\frac{45}{17}\\\\- \\frac{12}{17}\\\\0\\\\0\\\\-1\\end{matrix}\\right]$"
      ],
      "text/plain": [
       "Matrix([\n",
       "[ 45/17],\n",
       "[-12/17],\n",
       "[     0],\n",
       "[     0],\n",
       "[    -1]])"
      ]
     },
     "execution_count": 44,
     "metadata": {},
     "output_type": "execute_result"
    }
   ],
   "source": [
    "u3"
   ]
  },
  {
   "cell_type": "code",
   "execution_count": null,
   "metadata": {},
   "outputs": [],
   "source": []
  }
 ],
 "metadata": {
  "kernelspec": {
   "display_name": "Python 3",
   "language": "python",
   "name": "python3"
  },
  "language_info": {
   "codemirror_mode": {
    "name": "ipython",
    "version": 3
   },
   "file_extension": ".py",
   "mimetype": "text/x-python",
   "name": "python",
   "nbconvert_exporter": "python",
   "pygments_lexer": "ipython3",
   "version": "3.6.9"
  }
 },
 "nbformat": 4,
 "nbformat_minor": 2
}
