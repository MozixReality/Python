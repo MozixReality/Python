{
 "cells": [
  {
   "cell_type": "code",
   "execution_count": 5,
   "metadata": {},
   "outputs": [
    {
     "data": {
      "text/plain": [
       "(Matrix([\n",
       " [1, 3/2, 4/3, 7/6],\n",
       " [0,   0,   0,   0],\n",
       " [0,   0,   0,   0],\n",
       " [0,   0,   0,   0]]), (0,))"
      ]
     },
     "execution_count": 5,
     "metadata": {},
     "output_type": "execute_result"
    }
   ],
   "source": [
    "import sympy as sp\n",
    "from sympy import S\n",
    "\n",
    "A = sp.Matrix([[2,1,3,4]])\n",
    "B = sp.Matrix([[6,9,8,7]])\n",
    "\n",
    "C = A.T*B\n",
    "\n",
    "C.rref()"
   ]
  },
  {
   "cell_type": "code",
   "execution_count": null,
   "metadata": {},
   "outputs": [],
   "source": [
    "#發現！！！！真的是 rank 1 太神奇了寶傑"
   ]
  }
 ],
 "metadata": {
  "kernelspec": {
   "display_name": "Python 3",
   "language": "python",
   "name": "python3"
  },
  "language_info": {
   "codemirror_mode": {
    "name": "ipython",
    "version": 3
   },
   "file_extension": ".py",
   "mimetype": "text/x-python",
   "name": "python",
   "nbconvert_exporter": "python",
   "pygments_lexer": "ipython3",
   "version": "3.6.9"
  }
 },
 "nbformat": 4,
 "nbformat_minor": 2
}
