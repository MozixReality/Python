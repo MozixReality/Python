{
 "cells": [
  {
   "cell_type": "code",
   "execution_count": 2,
   "metadata": {},
   "outputs": [
    {
     "data": {
      "text/latex": [
       "$\\displaystyle \\left[\\begin{matrix}12 & 18 & 16 & 14\\\\6 & 9 & 8 & 7\\\\18 & 27 & 24 & 21\\\\24 & 36 & 32 & 28\\end{matrix}\\right]$"
      ],
      "text/plain": [
       "Matrix([\n",
       "[12, 18, 16, 14],\n",
       "[ 6,  9,  8,  7],\n",
       "[18, 27, 24, 21],\n",
       "[24, 36, 32, 28]])"
      ]
     },
     "execution_count": 2,
     "metadata": {},
     "output_type": "execute_result"
    }
   ],
   "source": [
    "import sympy as sp\n",
    "from sympy import S\n",
    "\n",
    "A = sp.Matrix([[2,1,3,4]])\n",
    "B = sp.Matrix([[6,9,8,7]])\n",
    "\n",
    "A.T*B"
   ]
  },
  {
   "cell_type": "code",
   "execution_count": null,
   "metadata": {},
   "outputs": [],
   "source": [
    "#發現！！！！真的是 rank 1 太神奇了寶傑"
   ]
  }
 ],
 "metadata": {
  "kernelspec": {
   "display_name": "Python 3",
   "language": "python",
   "name": "python3"
  },
  "language_info": {
   "codemirror_mode": {
    "name": "ipython",
    "version": 3
   },
   "file_extension": ".py",
   "mimetype": "text/x-python",
   "name": "python",
   "nbconvert_exporter": "python",
   "pygments_lexer": "ipython3",
   "version": "3.6.9"
  }
 },
 "nbformat": 4,
 "nbformat_minor": 2
}
